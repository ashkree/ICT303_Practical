{
  "cells": [
    {
      "cell_type": "markdown",
      "metadata": {
        "id": "ZdDimpLi2_nI"
      },
      "source": [
        "# **ICT303 - Advanced Machine Learning and Artificial Intelligence**\n",
        "# **Lab 2 - Linear Neural Networks**\n",
        "\n",
        "The goal of this lab is to learn how to implement, from scratch, the linear neuron (or linear regression model) that we covered in the lecture. We will particularly focus on creating all the building blocks involved in any machine learning model. These should include a class for managing the data, a class for the machine leanring model itself (The Model), a class responsible for training the model (The Trainer) and finally a main program that runs all the necessary tests.\n",
        "\n",
        "While deep learning (and other) programming frameworks already provide ready-to-use implementations, implementing things from scratch is the only way to make sure that you\n",
        "- understand the theoretical concepts,\n",
        "- really know what you are doing,  \n",
        "- can use efficiently these tools,\n",
        "- understand their limitations, and\n",
        "- can extend and build on the top of them.\n",
        "\n",
        "We will first start with a naive approach that implements the analytical solution of the linear regression model and then solve the same problem by formulating it as a Neuron and train it on data.\n",
        "\n",
        "In both cases:\n",
        "- We will use synthetically-generated data and create a class called **SyntheticRegressionData** to manage the data.\n",
        "- Create a class called **LinearRegression** that implements the machine learning model.\n",
        "- Train the model using a class called **Trainer**.\n",
        "\n",
        "This forms the standard standard machine learnin pipeline. This will give you an idea of what is involved in the implementation of machine learning models.\n",
        "\n",
        "This lab is adapted from: https://d2l.ai/chapter_linear-regression/linear-regression-scratch.html"
      ]
    },
    {
      "cell_type": "markdown",
      "source": [
        "### **1. A short summary of linear regression**\n",
        "\n",
        "Recall, from the lecture, that  regression is the problem of estimating the value of a variable (the output) $y$ as a function of $d$ variables (the input) \\begin{align}\n",
        "  \\textbf{x} = \\begin{bmatrix}\n",
        "           x_{1} \\\\\n",
        "           x_{2} \\\\\n",
        "           \\vdots \\\\\n",
        "           x_{d}\n",
        "         \\end{bmatrix}.\n",
        "\\end{align}\n",
        "\n",
        "In linear regression, this function, which defines the relation between the input $\\textbf{x}$ and the output $y$, is linear. In other words:\n",
        "\\begin{equation}\n",
        "y = w_1x_1 + w_2 x_2 + \\cdots + w_dx_d + b = \\sum_{i=1}^{d}w_ix_i + b,\n",
        "\\end{equation}\n",
        "\n",
        "where:\n",
        "- $b$ is a scalar called *bias*, and\n",
        "- $w_1, \\dots, w_d$ are scalar (real) values called *weights*.\n",
        "\n",
        "The weights $w_1, \\dots, w_d$  and the bias $b$ can be arranged into a single column vector of the form:\n",
        "\\begin{align}\n",
        "  \\textbf{W} = \\begin{bmatrix}\n",
        "           w_{1} \\\\\n",
        "           w_{2} \\\\\n",
        "           \\vdots \\\\\n",
        "           w_{d} \\\\\n",
        "           b\n",
        "         \\end{bmatrix}.\n",
        "\\end{align}\n",
        "\n",
        "This way, the linear regression equation above can be written using dot products between vectors:\n",
        "$$\n",
        "    y =  \\begin{bmatrix}\n",
        "            w_{1}, w_{2}, \\dots, w_{d}, b\n",
        "        \\end{bmatrix}\n",
        "       \\begin{bmatrix}\n",
        "           x_{1} \\\\\n",
        "           x_{2} \\\\\n",
        "           \\vdots \\\\\n",
        "           x_{d} \\\\\n",
        "           1\n",
        "         \\end{bmatrix}.\n",
        "$$\n",
        "\n",
        "which can be written in a compact way as:\n",
        "$$\n",
        "y = \\textbf{W}^{\\top} \\textbf{X} = \\langle \\textbf{W}, \\textbf{X} \\rangle.\n",
        "$$\n",
        "\n",
        "Note that here,\n",
        "$$\n",
        "  \\textbf{X} =  \\begin{bmatrix}\n",
        "           x_{1} \\\\\n",
        "           x_{2} \\\\\n",
        "           \\vdots \\\\\n",
        "           x_{d} \\\\\n",
        "           1\n",
        "         \\end{bmatrix}.\n",
        "$$\n",
        "\n",
        "\n",
        "$\\textbf{W}$, which includes both the weights and the bias  and $b$, are called **parameters** of the model. The goal of the **training** process is to find the right values of these weights from some training data.\n",
        "\n",
        "### **Example 1 - House prices** ###\n",
        "\n",
        "House prices are affected by many factors. In this example, let's assume that they are affected by 3 factors (in this case $d = 3$):\n",
        "- The surface of the livable area. Let's denote it by $x_1$,\n",
        "- The land area. Let's denote it by $x_2$.\n",
        "- The distance of the house to the train startion. Let's denote it by $x_3\".\n",
        "\n",
        "Let's denote by $y$ the house price.\n",
        "\n",
        "We would like to develop a linear model that predicts the house price, i.e., the value of $y$ from these 3 parameters. Then, we can write:\n",
        "\n",
        "$$\n",
        "    y =  \\begin{bmatrix}\n",
        "            w_{1}, w_{2}, w_{3}, b\n",
        "        \\end{bmatrix}\n",
        "       \\begin{bmatrix}\n",
        "           x_{1} \\\\\n",
        "           x_{2} \\\\\n",
        "           x_{3} \\\\\n",
        "           1\n",
        "         \\end{bmatrix} = w_1 x_1 +  w_2 x_2 + w_3 x_3 + b.\n",
        "$$\n",
        "\n",
        "In this formulation, we know the form of the relation between these parameters and the house price. Or, if we want to be correct, we assumed that the relation between the three factors and the house price is linear.  The problem, however, is that we do not know the exact values of the parameters $w_1, w_2, w_3$ and  $b$.\n",
        "\n",
        "The goal of the training phase is to actually determine the correct values of $w_1, w_2, w_3$ and  $b$ from examples. In other words, we will go out, collect data about each house (the surface of their livable area, the total area of the land, and their distance to the train station) as well as their historical sale prices. Then, we use this data to estimate the values of $w_1, w_2, w_3$ and  $b$. When someone wants to sell their house, they only need to enter the surface of the livable area of the house, the total land area, and its distance to the train station. The model will then return the estimated sale price.\n",
        "\n",
        "### **The training process** ###\n",
        "\n",
        "The first step inthe t raining process is to collect training data. In the example above, the training data consists of a number $n$ of houses. For each house, we need to collect (1) the area of its liveable surface, its total area and its distance to the station, and (2) the corresponding sale price. The latter is called grundtruth.\n",
        "\n",
        "In the general case, we need to collect:\n",
        "-  $n$ input samples $\\textbf{x}^1, \\dots, \\textbf{x}^n$. Each sample $\\textbf{x}^i$ is a vector of the form:\n",
        "  $$\n",
        "    \\textbf{x}^i = \\begin{bmatrix}\n",
        "           x^{i}_{1} \\\\\n",
        "           x^{i}_{2} \\\\\n",
        "           \\vdots \\\\\n",
        "           x^{i}_{d} \\\\\n",
        "           1\n",
        "         \\end{bmatrix}.\n",
        "  $$\n",
        "\n",
        "Note that in the case of houses the $ d = 3 $ and $x^{i}{1}$  corresponds to the areaof the liveable space of the $i-$th house, $x^{i}_{2}$ corresponds to the total area of the $i-$th house and $x^{i}_{3}$ corresponds to the distance of the $i-$th house from the train station.\n",
        "\n",
        "- For all the data we collected, we stack them into a single matrix $\\textbf{X}$ of the form:\n",
        "  $$\n",
        "    \\textbf{X} =\n",
        "      \\begin{bmatrix}\n",
        "           x^{1}_{1} \\cdots x^{i}_{1} \\cdots x^{n}_{1} \\\\\n",
        "           x^{1}_{2} \\cdots x^{i}_{1} \\cdots x^{n}_{2} \\\\\n",
        "           \\vdots \\\\\n",
        "            x^{1}_{d} \\cdots x^{i}_{d} \\cdots x^{n}_{d}\\\\\n",
        "            1 \\cdots 1 \\cdots 1\n",
        "         \\end{bmatrix}.\n",
        "  $$\n",
        "\n",
        "\n",
        "- For each sample $\\textbf{x}^i$, we have its desired output $y^i$. In our example, $y^i$ is the historical sale price of the $i-$th house.  Let's put all the $y^i$'s into one column vector:\n",
        " $$\n",
        " \\textbf{y} =  \n",
        "  \\begin{bmatrix}\n",
        "      y_1 \\\\\n",
        "      y_2\\\\\n",
        "      \\vdots \\\\\n",
        "      y_n\n",
        "  \\end{bmatrix}\n",
        " $$\n",
        "\n",
        "\n",
        "Then, we can write:\n",
        "$$\n",
        "\\begin{bmatrix}\n",
        "      y_1 \\\\\n",
        "      y_2\\\\\n",
        "      \\vdots \\\\\n",
        "      y_n\n",
        "  \\end{bmatrix} = \\begin{bmatrix}\n",
        "            w_{1}, w_{2}, \\dots, w_{d}, b\n",
        "        \\end{bmatrix}  \\begin{bmatrix}\n",
        "           x^{1}_{1} \\cdots x^{i}_{1} \\cdots x^{n}_{1} \\\\\n",
        "           x^{1}_{2} \\cdots x^{i}_{1} \\cdots x^{n}_{2} \\\\\n",
        "           \\vdots \\\\\n",
        "            x^{1}_{d} \\cdots x^{i}_{d} \\cdots x^{n}_{d}\\\\\n",
        "            1 \\cdots 1 \\cdots 1\n",
        "         \\end{bmatrix}.\n",
        "$$\n",
        "\n",
        "which can be written in short as:\n",
        "$$\n",
        "   \\textbf{y} = \\textbf{W}^\\top \\textbf{X}.\n",
        "$$\n",
        "\n",
        "Our goal is to find the values of $\\textbf{W}$. There are two ways of solving this problem:\n",
        "- Analytical (closed-form) solution, and\n",
        "- Iteratvie optimization-based solution.\n",
        "\n",
        "The former is only possible for simple problems such as the linear regression problem. The latter, on the other hand, is iterative but applicable to every machine learning problem.\n",
        "\n",
        "This week, we will look at the first solution. First, we will see how we can generate some synthetic/simulated data (Section 2), which we will use to validate the solution. This will show you how to implement the class the handles data. Second, will create the model class and the trainer (Section 2) and implement all the necessary methods.\n",
        "\n"
      ],
      "metadata": {
        "id": "RNeECLiQOUgc"
      }
    },
    {
      "cell_type": "markdown",
      "source": [
        "### **2. Generating synthetic data**\n",
        "\n",
        "Machine learning is all about data. The data usually comes from practical problems. However, when developing machine learning models, we usually rely on synthetic data because:\n",
        "- They are easy to generate, by just writing some code\n",
        "- We know the input, the output, and  the process that generated them. Thus, we can easily evaluate whether our machine learning model works the way it is intended to.\n",
        "\n",
        "Note, however, that synthetic data should not replace real data. Once a machine learning model has been developed and tested, it should be trained and testedt/validated on real data.\n",
        "\n",
        "In the case of linear regression, we will need training data in the form of pairs $(\\textbf{x}^i, y^i)$ where $\\textbf{x}^i$ is an input and $y^i$ is its corresponding output (called also label). In this example, let's start with a simple case where $d=1$ and thus $\\textbf{x}^i$ is a scalar (i.e., just one value).\n",
        "\n",
        "Let's simulate $1000$ data points (i.e., $n=1000$). We generate each $\\textbf{x}^i$ randomly from a normal (Gaussian) distribution with mean $0$ and standard deviation $0.01$ (any other values are also fine). Then, its corresponding output $y^i$ is  given by:\n",
        "\\begin{equation}\n",
        "      y^i = \\textbf{w}^\\top \\textbf{x}^i + b + \\varepsilon.\n",
        "\\end{equation}\n",
        "\n",
        "Here, $\\varepsilon$ is an additive **noise** that corrupts the data generation process. (Think of a device that captures data where, during the capture process, the data gets corrupted with some noise.)\n",
        "\n",
        "In this example, let's set\n",
        "$$\\textbf{w} = \\begin{bmatrix}\n",
        "     2 \\\\\n",
        "     4.2\n",
        "     \\end{bmatrix}\n",
        "$$\n",
        "\n",
        "To generate this data, we will created  a class called **SyntheticRegressionData** whose responsibiity is to generate some synthetic data following the description above.\n",
        "\n",
        "In this exercise, you are required to implement the method **generate**, which takes as input the mean mu, the standard deviation sigma, the noise value, and the number of training samples we want to generate. The generated data should be saved into variables X and y which should be members of the same class.  "
      ],
      "metadata": {
        "id": "9_W5wADsWi2z"
      }
    },
    {
      "cell_type": "code",
      "source": [
        "import torch\n",
        "\n",
        "class SyntheticRegressionData:\n",
        "\n",
        "    def __init__(self):\n",
        "        \"\"\"\n",
        "        Initialize the class with empty parameters.\n",
        "        The actual data generation happens in the generate method.\n",
        "        \"\"\"\n",
        "        self.n = 0\n",
        "        self.w = []\n",
        "        self.b = []\n",
        "        self.X = None\n",
        "        self.y = None\n",
        "\n",
        "    def generate(self, w, b, mu=0.0, sigma=1.0, noise=0.01, num_train=1000):\n",
        "        \"\"\"\n",
        "        Generate synthetic regression data following the lab requirements.\n",
        "\n",
        "        The data follows: y^i = w^T * x^i + b + ε\n",
        "        where ε is additive noise from normal distribution\n",
        "\n",
        "        Args:\n",
        "            w: weight vector (torch.Tensor) - should be column vector\n",
        "            b: bias scalar (float or torch.Tensor)\n",
        "            mu: mean for Gaussian distribution of x^i (default: 0.0)\n",
        "            sigma: standard deviation for Gaussian distribution of x^i (default: 1.0)\n",
        "            noise: standard deviation of additive noise ε (default: 0.01)\n",
        "            num_train: number of training samples n (default: 1000)\n",
        "\n",
        "        Returns:\n",
        "            tuple: (X, y) where X has shape (num_features, num_train) and y has shape (num_train, 1)\n",
        "        \"\"\"\n",
        "        # Store parameters\n",
        "        self.w = w\n",
        "        self.b = b\n",
        "        self.n = num_train\n",
        "\n",
        "        # Get number of features (d) from weight vector\n",
        "        if w.dim() == 1:\n",
        "            num_features = w.shape[0]\n",
        "            w = w.reshape(-1, 1)  # Make it a column vector\n",
        "        else:\n",
        "            num_features = w.shape[0]\n",
        "\n",
        "        # Generate n random samples x^i from normal distribution\n",
        "        # X should be of size (num_features, num_train) as per lab requirements\n",
        "        self.X = torch.normal(mu, sigma, size=(num_features, num_train))\n",
        "\n",
        "        # Generate targets using: y^i = w^T * x^i + b + ε\n",
        "        # w^T @ X gives us all the linear combinations at once\n",
        "        y_clean = w.T @ self.X + b  # Shape: (1, num_train)\n",
        "\n",
        "        # Add Gaussian noise ε ~ N(0, noise^2)\n",
        "        noise_term = torch.normal(0, noise, size=(1, num_train))\n",
        "        y_with_noise = y_clean + noise_term\n",
        "\n",
        "        # Reshape y to be a column vector (num_train, 1)\n",
        "        self.y = y_with_noise.T  # Transpose to get (num_train, 1)\n",
        "\n",
        "        return self.X, self.y"
      ],
      "metadata": {
        "id": "ot8TMZN-LCXv"
      },
      "execution_count": 1,
      "outputs": []
    },
    {
      "cell_type": "markdown",
      "source": [
        "Below is an example of how to use the class to generate $n=1000$ data and plot them."
      ],
      "metadata": {
        "id": "85bADCVOORG_"
      }
    },
    {
      "cell_type": "code",
      "source": [
        "w = torch.tensor([2.0])\n",
        "b = 4.2\n",
        "\n",
        "noise = 1.2\n",
        "mu = 0\n",
        "sigma = 12\n",
        "\n",
        "num_train = 1000  #I want to generate 1000 random houses\n",
        "\n",
        "data_generator = SyntheticRegressionData()\n",
        "\n",
        "X, y = data_generator.generate(w, b, mu=mu, sigma = sigma, noise = noise, num_train = num_train)\n",
        "\n",
        "# Let's teh shape of X\n",
        "print(X.shape)\n",
        "print(y.shape)\n"
      ],
      "metadata": {
        "id": "HGLMQr_TOajv",
        "colab": {
          "base_uri": "https://localhost:8080/"
        },
        "outputId": "6e9da2c8-01a7-4cfc-cadd-e312bf689d9c"
      },
      "execution_count": 2,
      "outputs": [
        {
          "output_type": "stream",
          "name": "stdout",
          "text": [
            "torch.Size([1, 1000])\n",
            "torch.Size([1000, 1])\n"
          ]
        }
      ]
    },
    {
      "cell_type": "markdown",
      "source": [
        "Often, we need to **plot** or **visualize** the data instead of printing individual numerical values. Python offers a range of tools for plotting data and graphs. For instance, in the simple example above, we can use the **plot** function from **matloplib**:"
      ],
      "metadata": {
        "id": "DGYXonscQgYv"
      }
    },
    {
      "cell_type": "code",
      "source": [
        "import matplotlib.pyplot as plt\n",
        "\n",
        "# Plot as points in green\n",
        "plt.plot(X, torch.transpose(y, 0, 1), 'r.')\n",
        "plt.xlabel('X')\n",
        "plt.ylabel('y')\n",
        "plt.title('Random data')"
      ],
      "metadata": {
        "id": "sTuNDt5ETm4-",
        "colab": {
          "base_uri": "https://localhost:8080/",
          "height": 783
        },
        "outputId": "8ad418bf-de55-474e-c5f4-edb4207a9bf4"
      },
      "execution_count": 5,
      "outputs": [
        {
          "output_type": "error",
          "ename": "ValueError",
          "evalue": "x and y must have same first dimension, but have shapes (3, 1000) and (1, 1000)",
          "traceback": [
            "\u001b[0;31m---------------------------------------------------------------------------\u001b[0m",
            "\u001b[0;31mValueError\u001b[0m                                Traceback (most recent call last)",
            "\u001b[0;32m<ipython-input-5-aea1d7a127d1>\u001b[0m in \u001b[0;36m<cell line: 0>\u001b[0;34m()\u001b[0m\n\u001b[1;32m      2\u001b[0m \u001b[0;34m\u001b[0m\u001b[0m\n\u001b[1;32m      3\u001b[0m \u001b[0;31m# Plot as points in green\u001b[0m\u001b[0;34m\u001b[0m\u001b[0;34m\u001b[0m\u001b[0m\n\u001b[0;32m----> 4\u001b[0;31m \u001b[0mplt\u001b[0m\u001b[0;34m.\u001b[0m\u001b[0mplot\u001b[0m\u001b[0;34m(\u001b[0m\u001b[0mX\u001b[0m\u001b[0;34m,\u001b[0m \u001b[0mtorch\u001b[0m\u001b[0;34m.\u001b[0m\u001b[0mtranspose\u001b[0m\u001b[0;34m(\u001b[0m\u001b[0my\u001b[0m\u001b[0;34m,\u001b[0m \u001b[0;36m0\u001b[0m\u001b[0;34m,\u001b[0m \u001b[0;36m1\u001b[0m\u001b[0;34m)\u001b[0m\u001b[0;34m,\u001b[0m \u001b[0;34m'r.'\u001b[0m\u001b[0;34m)\u001b[0m\u001b[0;34m\u001b[0m\u001b[0;34m\u001b[0m\u001b[0m\n\u001b[0m\u001b[1;32m      5\u001b[0m \u001b[0mplt\u001b[0m\u001b[0;34m.\u001b[0m\u001b[0mxlabel\u001b[0m\u001b[0;34m(\u001b[0m\u001b[0;34m'X'\u001b[0m\u001b[0;34m)\u001b[0m\u001b[0;34m\u001b[0m\u001b[0;34m\u001b[0m\u001b[0m\n\u001b[1;32m      6\u001b[0m \u001b[0mplt\u001b[0m\u001b[0;34m.\u001b[0m\u001b[0mylabel\u001b[0m\u001b[0;34m(\u001b[0m\u001b[0;34m'y'\u001b[0m\u001b[0;34m)\u001b[0m\u001b[0;34m\u001b[0m\u001b[0;34m\u001b[0m\u001b[0m\n",
            "\u001b[0;32m/usr/local/lib/python3.11/dist-packages/matplotlib/pyplot.py\u001b[0m in \u001b[0;36mplot\u001b[0;34m(scalex, scaley, data, *args, **kwargs)\u001b[0m\n\u001b[1;32m   3827\u001b[0m     \u001b[0;34m**\u001b[0m\u001b[0mkwargs\u001b[0m\u001b[0;34m,\u001b[0m\u001b[0;34m\u001b[0m\u001b[0;34m\u001b[0m\u001b[0m\n\u001b[1;32m   3828\u001b[0m ) -> list[Line2D]:\n\u001b[0;32m-> 3829\u001b[0;31m     return gca().plot(\n\u001b[0m\u001b[1;32m   3830\u001b[0m         \u001b[0;34m*\u001b[0m\u001b[0margs\u001b[0m\u001b[0;34m,\u001b[0m\u001b[0;34m\u001b[0m\u001b[0;34m\u001b[0m\u001b[0m\n\u001b[1;32m   3831\u001b[0m         \u001b[0mscalex\u001b[0m\u001b[0;34m=\u001b[0m\u001b[0mscalex\u001b[0m\u001b[0;34m,\u001b[0m\u001b[0;34m\u001b[0m\u001b[0;34m\u001b[0m\u001b[0m\n",
            "\u001b[0;32m/usr/local/lib/python3.11/dist-packages/matplotlib/axes/_axes.py\u001b[0m in \u001b[0;36mplot\u001b[0;34m(self, scalex, scaley, data, *args, **kwargs)\u001b[0m\n\u001b[1;32m   1775\u001b[0m         \"\"\"\n\u001b[1;32m   1776\u001b[0m         \u001b[0mkwargs\u001b[0m \u001b[0;34m=\u001b[0m \u001b[0mcbook\u001b[0m\u001b[0;34m.\u001b[0m\u001b[0mnormalize_kwargs\u001b[0m\u001b[0;34m(\u001b[0m\u001b[0mkwargs\u001b[0m\u001b[0;34m,\u001b[0m \u001b[0mmlines\u001b[0m\u001b[0;34m.\u001b[0m\u001b[0mLine2D\u001b[0m\u001b[0;34m)\u001b[0m\u001b[0;34m\u001b[0m\u001b[0;34m\u001b[0m\u001b[0m\n\u001b[0;32m-> 1777\u001b[0;31m         \u001b[0mlines\u001b[0m \u001b[0;34m=\u001b[0m \u001b[0;34m[\u001b[0m\u001b[0;34m*\u001b[0m\u001b[0mself\u001b[0m\u001b[0;34m.\u001b[0m\u001b[0m_get_lines\u001b[0m\u001b[0;34m(\u001b[0m\u001b[0mself\u001b[0m\u001b[0;34m,\u001b[0m \u001b[0;34m*\u001b[0m\u001b[0margs\u001b[0m\u001b[0;34m,\u001b[0m \u001b[0mdata\u001b[0m\u001b[0;34m=\u001b[0m\u001b[0mdata\u001b[0m\u001b[0;34m,\u001b[0m \u001b[0;34m**\u001b[0m\u001b[0mkwargs\u001b[0m\u001b[0;34m)\u001b[0m\u001b[0;34m]\u001b[0m\u001b[0;34m\u001b[0m\u001b[0;34m\u001b[0m\u001b[0m\n\u001b[0m\u001b[1;32m   1778\u001b[0m         \u001b[0;32mfor\u001b[0m \u001b[0mline\u001b[0m \u001b[0;32min\u001b[0m \u001b[0mlines\u001b[0m\u001b[0;34m:\u001b[0m\u001b[0;34m\u001b[0m\u001b[0;34m\u001b[0m\u001b[0m\n\u001b[1;32m   1779\u001b[0m             \u001b[0mself\u001b[0m\u001b[0;34m.\u001b[0m\u001b[0madd_line\u001b[0m\u001b[0;34m(\u001b[0m\u001b[0mline\u001b[0m\u001b[0;34m)\u001b[0m\u001b[0;34m\u001b[0m\u001b[0;34m\u001b[0m\u001b[0m\n",
            "\u001b[0;32m/usr/local/lib/python3.11/dist-packages/matplotlib/axes/_base.py\u001b[0m in \u001b[0;36m__call__\u001b[0;34m(self, axes, data, return_kwargs, *args, **kwargs)\u001b[0m\n\u001b[1;32m    295\u001b[0m                 \u001b[0mthis\u001b[0m \u001b[0;34m+=\u001b[0m \u001b[0margs\u001b[0m\u001b[0;34m[\u001b[0m\u001b[0;36m0\u001b[0m\u001b[0;34m]\u001b[0m\u001b[0;34m,\u001b[0m\u001b[0;34m\u001b[0m\u001b[0;34m\u001b[0m\u001b[0m\n\u001b[1;32m    296\u001b[0m                 \u001b[0margs\u001b[0m \u001b[0;34m=\u001b[0m \u001b[0margs\u001b[0m\u001b[0;34m[\u001b[0m\u001b[0;36m1\u001b[0m\u001b[0;34m:\u001b[0m\u001b[0;34m]\u001b[0m\u001b[0;34m\u001b[0m\u001b[0;34m\u001b[0m\u001b[0m\n\u001b[0;32m--> 297\u001b[0;31m             yield from self._plot_args(\n\u001b[0m\u001b[1;32m    298\u001b[0m                 \u001b[0maxes\u001b[0m\u001b[0;34m,\u001b[0m \u001b[0mthis\u001b[0m\u001b[0;34m,\u001b[0m \u001b[0mkwargs\u001b[0m\u001b[0;34m,\u001b[0m \u001b[0mambiguous_fmt_datakey\u001b[0m\u001b[0;34m=\u001b[0m\u001b[0mambiguous_fmt_datakey\u001b[0m\u001b[0;34m,\u001b[0m\u001b[0;34m\u001b[0m\u001b[0;34m\u001b[0m\u001b[0m\n\u001b[1;32m    299\u001b[0m                 \u001b[0mreturn_kwargs\u001b[0m\u001b[0;34m=\u001b[0m\u001b[0mreturn_kwargs\u001b[0m\u001b[0;34m\u001b[0m\u001b[0;34m\u001b[0m\u001b[0m\n",
            "\u001b[0;32m/usr/local/lib/python3.11/dist-packages/matplotlib/axes/_base.py\u001b[0m in \u001b[0;36m_plot_args\u001b[0;34m(self, axes, tup, kwargs, return_kwargs, ambiguous_fmt_datakey)\u001b[0m\n\u001b[1;32m    492\u001b[0m \u001b[0;34m\u001b[0m\u001b[0m\n\u001b[1;32m    493\u001b[0m         \u001b[0;32mif\u001b[0m \u001b[0mx\u001b[0m\u001b[0;34m.\u001b[0m\u001b[0mshape\u001b[0m\u001b[0;34m[\u001b[0m\u001b[0;36m0\u001b[0m\u001b[0;34m]\u001b[0m \u001b[0;34m!=\u001b[0m \u001b[0my\u001b[0m\u001b[0;34m.\u001b[0m\u001b[0mshape\u001b[0m\u001b[0;34m[\u001b[0m\u001b[0;36m0\u001b[0m\u001b[0;34m]\u001b[0m\u001b[0;34m:\u001b[0m\u001b[0;34m\u001b[0m\u001b[0;34m\u001b[0m\u001b[0m\n\u001b[0;32m--> 494\u001b[0;31m             raise ValueError(f\"x and y must have same first dimension, but \"\n\u001b[0m\u001b[1;32m    495\u001b[0m                              f\"have shapes {x.shape} and {y.shape}\")\n\u001b[1;32m    496\u001b[0m         \u001b[0;32mif\u001b[0m \u001b[0mx\u001b[0m\u001b[0;34m.\u001b[0m\u001b[0mndim\u001b[0m \u001b[0;34m>\u001b[0m \u001b[0;36m2\u001b[0m \u001b[0;32mor\u001b[0m \u001b[0my\u001b[0m\u001b[0;34m.\u001b[0m\u001b[0mndim\u001b[0m \u001b[0;34m>\u001b[0m \u001b[0;36m2\u001b[0m\u001b[0;34m:\u001b[0m\u001b[0;34m\u001b[0m\u001b[0;34m\u001b[0m\u001b[0m\n",
            "\u001b[0;31mValueError\u001b[0m: x and y must have same first dimension, but have shapes (3, 1000) and (1, 1000)"
          ]
        },
        {
          "output_type": "display_data",
          "data": {
            "text/plain": [
              "<Figure size 640x480 with 1 Axes>"
            ],
            "image/png": "[encoded data removed]"
          },
          "metadata": {}
        }
      ]
    },
    {
      "cell_type": "markdown",
      "source": [
        "**Questions:**\n",
        "\n",
        "\n",
        "1. Play with the different parameters of the data generator and observe the plot that is generated.\n",
        "\n"
      ],
      "metadata": {
        "id": "HchH-_NYWFIA"
      }
    },
    {
      "cell_type": "code",
      "source": [
        "w = torch.tensor([2.0, 5.6, 7.82])\n",
        "b = 10\n",
        "\n",
        "noise = 5.7\n",
        "mu = 1\n",
        "sigma = 3\n",
        "\n",
        "num_train = 1000  #I want to generate 1000 random houses\n",
        "\n",
        "data_generator = SyntheticRegressionData()\n",
        "\n",
        "X, y = data_generator.generate(w, b, mu=mu, sigma = sigma, noise = noise, num_train = num_train)\n",
        "\n",
        "# Let's teh shape of X\n",
        "print(X.shape)\n",
        "print(y.shape)\n"
      ],
      "metadata": {
        "id": "jYtr2BJ0Wgaw",
        "colab": {
          "base_uri": "https://localhost:8080/",
          "height": 818
        },
        "outputId": "724cb132-5a48-42c1-b74e-6a84970c2d42"
      },
      "execution_count": 6,
      "outputs": [
        {
          "output_type": "stream",
          "name": "stdout",
          "text": [
            "torch.Size([3, 1000])\n",
            "torch.Size([1000, 1])\n"
          ]
        },
        {
          "output_type": "error",
          "ename": "ValueError",
          "evalue": "x and y must have same first dimension, but have shapes (3, 1000) and (1, 1000)",
          "traceback": [
            "\u001b[0;31m---------------------------------------------------------------------------\u001b[0m",
            "\u001b[0;31mValueError\u001b[0m                                Traceback (most recent call last)",
            "\u001b[0;32m<ipython-input-6-065770b8533b>\u001b[0m in \u001b[0;36m<cell line: 0>\u001b[0;34m()\u001b[0m\n\u001b[1;32m     19\u001b[0m \u001b[0;34m\u001b[0m\u001b[0m\n\u001b[1;32m     20\u001b[0m \u001b[0;31m# Plot as points in green\u001b[0m\u001b[0;34m\u001b[0m\u001b[0;34m\u001b[0m\u001b[0m\n\u001b[0;32m---> 21\u001b[0;31m \u001b[0mplt\u001b[0m\u001b[0;34m.\u001b[0m\u001b[0mplot\u001b[0m\u001b[0;34m(\u001b[0m\u001b[0mX\u001b[0m\u001b[0;34m,\u001b[0m \u001b[0mtorch\u001b[0m\u001b[0;34m.\u001b[0m\u001b[0mtranspose\u001b[0m\u001b[0;34m(\u001b[0m\u001b[0my\u001b[0m\u001b[0;34m,\u001b[0m \u001b[0;36m0\u001b[0m\u001b[0;34m,\u001b[0m \u001b[0;36m1\u001b[0m\u001b[0;34m)\u001b[0m\u001b[0;34m,\u001b[0m \u001b[0;34m'r.'\u001b[0m\u001b[0;34m)\u001b[0m\u001b[0;34m\u001b[0m\u001b[0;34m\u001b[0m\u001b[0m\n\u001b[0m\u001b[1;32m     22\u001b[0m \u001b[0mplt\u001b[0m\u001b[0;34m.\u001b[0m\u001b[0mxlabel\u001b[0m\u001b[0;34m(\u001b[0m\u001b[0;34m'X'\u001b[0m\u001b[0;34m)\u001b[0m\u001b[0;34m\u001b[0m\u001b[0;34m\u001b[0m\u001b[0m\n\u001b[1;32m     23\u001b[0m \u001b[0mplt\u001b[0m\u001b[0;34m.\u001b[0m\u001b[0mylabel\u001b[0m\u001b[0;34m(\u001b[0m\u001b[0;34m'y'\u001b[0m\u001b[0;34m)\u001b[0m\u001b[0;34m\u001b[0m\u001b[0;34m\u001b[0m\u001b[0m\n",
            "\u001b[0;32m/usr/local/lib/python3.11/dist-packages/matplotlib/pyplot.py\u001b[0m in \u001b[0;36mplot\u001b[0;34m(scalex, scaley, data, *args, **kwargs)\u001b[0m\n\u001b[1;32m   3827\u001b[0m     \u001b[0;34m**\u001b[0m\u001b[0mkwargs\u001b[0m\u001b[0;34m,\u001b[0m\u001b[0;34m\u001b[0m\u001b[0;34m\u001b[0m\u001b[0m\n\u001b[1;32m   3828\u001b[0m ) -> list[Line2D]:\n\u001b[0;32m-> 3829\u001b[0;31m     return gca().plot(\n\u001b[0m\u001b[1;32m   3830\u001b[0m         \u001b[0;34m*\u001b[0m\u001b[0margs\u001b[0m\u001b[0;34m,\u001b[0m\u001b[0;34m\u001b[0m\u001b[0;34m\u001b[0m\u001b[0m\n\u001b[1;32m   3831\u001b[0m         \u001b[0mscalex\u001b[0m\u001b[0;34m=\u001b[0m\u001b[0mscalex\u001b[0m\u001b[0;34m,\u001b[0m\u001b[0;34m\u001b[0m\u001b[0;34m\u001b[0m\u001b[0m\n",
            "\u001b[0;32m/usr/local/lib/python3.11/dist-packages/matplotlib/axes/_axes.py\u001b[0m in \u001b[0;36mplot\u001b[0;34m(self, scalex, scaley, data, *args, **kwargs)\u001b[0m\n\u001b[1;32m   1775\u001b[0m         \"\"\"\n\u001b[1;32m   1776\u001b[0m         \u001b[0mkwargs\u001b[0m \u001b[0;34m=\u001b[0m \u001b[0mcbook\u001b[0m\u001b[0;34m.\u001b[0m\u001b[0mnormalize_kwargs\u001b[0m\u001b[0;34m(\u001b[0m\u001b[0mkwargs\u001b[0m\u001b[0;34m,\u001b[0m \u001b[0mmlines\u001b[0m\u001b[0;34m.\u001b[0m\u001b[0mLine2D\u001b[0m\u001b[0;34m)\u001b[0m\u001b[0;34m\u001b[0m\u001b[0;34m\u001b[0m\u001b[0m\n\u001b[0;32m-> 1777\u001b[0;31m         \u001b[0mlines\u001b[0m \u001b[0;34m=\u001b[0m \u001b[0;34m[\u001b[0m\u001b[0;34m*\u001b[0m\u001b[0mself\u001b[0m\u001b[0;34m.\u001b[0m\u001b[0m_get_lines\u001b[0m\u001b[0;34m(\u001b[0m\u001b[0mself\u001b[0m\u001b[0;34m,\u001b[0m \u001b[0;34m*\u001b[0m\u001b[0margs\u001b[0m\u001b[0;34m,\u001b[0m \u001b[0mdata\u001b[0m\u001b[0;34m=\u001b[0m\u001b[0mdata\u001b[0m\u001b[0;34m,\u001b[0m \u001b[0;34m**\u001b[0m\u001b[0mkwargs\u001b[0m\u001b[0;34m)\u001b[0m\u001b[0;34m]\u001b[0m\u001b[0;34m\u001b[0m\u001b[0;34m\u001b[0m\u001b[0m\n\u001b[0m\u001b[1;32m   1778\u001b[0m         \u001b[0;32mfor\u001b[0m \u001b[0mline\u001b[0m \u001b[0;32min\u001b[0m \u001b[0mlines\u001b[0m\u001b[0;34m:\u001b[0m\u001b[0;34m\u001b[0m\u001b[0;34m\u001b[0m\u001b[0m\n\u001b[1;32m   1779\u001b[0m             \u001b[0mself\u001b[0m\u001b[0;34m.\u001b[0m\u001b[0madd_line\u001b[0m\u001b[0;34m(\u001b[0m\u001b[0mline\u001b[0m\u001b[0;34m)\u001b[0m\u001b[0;34m\u001b[0m\u001b[0;34m\u001b[0m\u001b[0m\n",
            "\u001b[0;32m/usr/local/lib/python3.11/dist-packages/matplotlib/axes/_base.py\u001b[0m in \u001b[0;36m__call__\u001b[0;34m(self, axes, data, return_kwargs, *args, **kwargs)\u001b[0m\n\u001b[1;32m    295\u001b[0m                 \u001b[0mthis\u001b[0m \u001b[0;34m+=\u001b[0m \u001b[0margs\u001b[0m\u001b[0;34m[\u001b[0m\u001b[0;36m0\u001b[0m\u001b[0;34m]\u001b[0m\u001b[0;34m,\u001b[0m\u001b[0;34m\u001b[0m\u001b[0;34m\u001b[0m\u001b[0m\n\u001b[1;32m    296\u001b[0m                 \u001b[0margs\u001b[0m \u001b[0;34m=\u001b[0m \u001b[0margs\u001b[0m\u001b[0;34m[\u001b[0m\u001b[0;36m1\u001b[0m\u001b[0;34m:\u001b[0m\u001b[0;34m]\u001b[0m\u001b[0;34m\u001b[0m\u001b[0;34m\u001b[0m\u001b[0m\n\u001b[0;32m--> 297\u001b[0;31m             yield from self._plot_args(\n\u001b[0m\u001b[1;32m    298\u001b[0m                 \u001b[0maxes\u001b[0m\u001b[0;34m,\u001b[0m \u001b[0mthis\u001b[0m\u001b[0;34m,\u001b[0m \u001b[0mkwargs\u001b[0m\u001b[0;34m,\u001b[0m \u001b[0mambiguous_fmt_datakey\u001b[0m\u001b[0;34m=\u001b[0m\u001b[0mambiguous_fmt_datakey\u001b[0m\u001b[0;34m,\u001b[0m\u001b[0;34m\u001b[0m\u001b[0;34m\u001b[0m\u001b[0m\n\u001b[1;32m    299\u001b[0m                 \u001b[0mreturn_kwargs\u001b[0m\u001b[0;34m=\u001b[0m\u001b[0mreturn_kwargs\u001b[0m\u001b[0;34m\u001b[0m\u001b[0;34m\u001b[0m\u001b[0m\n",
            "\u001b[0;32m/usr/local/lib/python3.11/dist-packages/matplotlib/axes/_base.py\u001b[0m in \u001b[0;36m_plot_args\u001b[0;34m(self, axes, tup, kwargs, return_kwargs, ambiguous_fmt_datakey)\u001b[0m\n\u001b[1;32m    492\u001b[0m \u001b[0;34m\u001b[0m\u001b[0m\n\u001b[1;32m    493\u001b[0m         \u001b[0;32mif\u001b[0m \u001b[0mx\u001b[0m\u001b[0;34m.\u001b[0m\u001b[0mshape\u001b[0m\u001b[0;34m[\u001b[0m\u001b[0;36m0\u001b[0m\u001b[0;34m]\u001b[0m \u001b[0;34m!=\u001b[0m \u001b[0my\u001b[0m\u001b[0;34m.\u001b[0m\u001b[0mshape\u001b[0m\u001b[0;34m[\u001b[0m\u001b[0;36m0\u001b[0m\u001b[0;34m]\u001b[0m\u001b[0;34m:\u001b[0m\u001b[0;34m\u001b[0m\u001b[0;34m\u001b[0m\u001b[0m\n\u001b[0;32m--> 494\u001b[0;31m             raise ValueError(f\"x and y must have same first dimension, but \"\n\u001b[0m\u001b[1;32m    495\u001b[0m                              f\"have shapes {x.shape} and {y.shape}\")\n\u001b[1;32m    496\u001b[0m         \u001b[0;32mif\u001b[0m \u001b[0mx\u001b[0m\u001b[0;34m.\u001b[0m\u001b[0mndim\u001b[0m \u001b[0;34m>\u001b[0m \u001b[0;36m2\u001b[0m \u001b[0;32mor\u001b[0m \u001b[0my\u001b[0m\u001b[0;34m.\u001b[0m\u001b[0mndim\u001b[0m \u001b[0;34m>\u001b[0m \u001b[0;36m2\u001b[0m\u001b[0;34m:\u001b[0m\u001b[0;34m\u001b[0m\u001b[0;34m\u001b[0m\u001b[0m\n",
            "\u001b[0;31mValueError\u001b[0m: x and y must have same first dimension, but have shapes (3, 1000) and (1, 1000)"
          ]
        },
        {
          "output_type": "display_data",
          "data": {
            "text/plain": [
              "<Figure size 640x480 with 1 Axes>"
            ],
            "image/png": "[encoded data removed]"
          },
          "metadata": {}
        }
      ]
    },
    {
      "cell_type": "markdown",
      "source": [
        "2. Can the class above be used to generate high dimensionial data, e.g., 2D or 3D points, or even points in nD? Write below the code of the extended class as well as the main program that tests it."
      ],
      "metadata": {
        "id": "_Ml0MykiWkkf"
      }
    },
    {
      "cell_type": "code",
      "source": [
        "## Write the code here and test it"
      ],
      "metadata": {
        "id": "6_cMdn9kW5Qo"
      },
      "execution_count": null,
      "outputs": []
    },
    {
      "cell_type": "markdown",
      "source": [
        "### **3. Analytical solution to the linear regression problem**\n",
        "\n",
        "Since this is a linear model, the solution has an analytical form. To simplify things, we add the bias $b$ to the vector $\\textbf{W}$. Thus, in what follows, $\\textbf{W} = (w_1, \\dots, w_d, b)^\\top$. We also add the element $1$ to each vector $\\textbf{x}^i$. With this notation, the solution of the equation above, i.e., the best values of the parameters $\\textbf{W}$, is given by:\n",
        "\n",
        "$$\n",
        "\\textbf{W}^*  = (\\textbf{X} \\textbf{X}^\\top)^{-1} \\textbf{X} \\textbf{y}.\n",
        "$$\n",
        "\n",
        "In the equation above:\n",
        "- $\\textbf{X}$ is a $(d+1) \\times n$ matrix, where each column is a training sample with the value $1$ appended to it.\n",
        "- $\\textbf{X}^\\top$ means the transpose of the matrix $\\textbf{X}$.\n",
        "- The $-1$ exponent means the inverse of a matrix."
      ],
      "metadata": {
        "id": "3PdKVLn4V6dF"
      }
    },
    {
      "cell_type": "markdown",
      "source": [
        "#### **3.1. A simple implementation of the analytic solution**\n",
        "\n",
        " Using PyTorch, you are required to implement the analytical solution for the linear regression problem. We will then use the synthetic data generator we created above to test our solution."
      ],
      "metadata": {
        "id": "rBdVRILw-8bm"
      }
    },
    {
      "cell_type": "code",
      "source": [
        "# Step 1 - Generate some synthetic data\n",
        "\n",
        "'''\n",
        "Write the code here\n",
        "'''\n",
        "\n",
        "# Step 2 - linear regression\n",
        "# From this data, we need to estimate w and b - let's call them w_star and b_star\n",
        "# Ideally, if our model is accurate, w_start and b_star should be equal to w and b, respectively\n",
        "# The they are to w and b, the better is our solution\n",
        "\n",
        "'''\n",
        "Write the code here\n",
        "'''\n",
        "\n",
        "# Let's print the estimated parameeters as well as the real values of these paramters\n",
        "# The estimated parameters should be close to the real values\n",
        "print(\"Estimated W: \", w_star)\n",
        "print(\"Estimate b: \", b_star)\n",
        "\n",
        "# real values\n",
        "print(\"Real W: \", w)\n",
        "print(\"Real b: \", b)\n",
        "\n"
      ],
      "metadata": {
        "id": "ZQM5k4KxYk0O"
      },
      "execution_count": null,
      "outputs": []
    },
    {
      "cell_type": "markdown",
      "source": [
        "\n",
        "#### **3.2. Analysis of the solution**\n",
        "\n",
        "#### **Effect of the noise and number of samples**\n",
        "In the code above, try the followings:\n",
        "- Set the variable **noise** to $0$, and observe the results produced by the code.\n",
        "- Increase the amount of noise in the generated synthetic data, i.e., by setting the variable **noise** to larger values, and observe the results produced by the code.\n",
        "- vary the number of data elements **num_train** from a small number, e.g., 5, to a large number, e.g., 10000, and compare the results that you obtain.\n",
        "\n",
        "What can you say about the accuracy? How is it affected by these parameters and why?\n",
        "\n",
        "#### **Performance** ###\n",
        "\n",
        "What do you think would be the issues with the solution above? Think of:\n",
        "- The computation time: think first of what would be the issue and then test the code. You can add some code lines to check the computation time it takes to find te parameters $\\textbf{w}$ and $b$,  \n",
        "- The computation of the inverse of the matrix $\\textbf{X} \\textbf{X}^\\top$. Does the inverse always exist? If no, in which conditions it would not exist?"
      ],
      "metadata": {
        "id": "TvE31QHCzRrA"
      }
    },
    {
      "cell_type": "markdown",
      "source": [
        "#### **3.3. A Practical problem**\n",
        "\n",
        " We would like to write a code that predicts house prices based on their land **area** and **age**. We assume that the house price is a linear function of **area** and **age**.\n",
        "\n",
        "Use the classes you created above to solve this problem. To test your solution, use the synthetic data generator class to simulate some data. For example, you can simulate data by calling the class **SyntheticRegressionData** with the parameters $w_1 = 100, w_2 = -5, b=100$.\n",
        "\n",
        "Make sure you make the necessary changes to the solution above in order to solve this problem. However, when you make changes, make sure that the classes also work for the previous problem."
      ],
      "metadata": {
        "id": "WiCXDoJDyi0i"
      }
    },
    {
      "cell_type": "code",
      "source": [
        "## Create the necessary code here"
      ],
      "metadata": {
        "id": "tdpqXfkc7uei"
      },
      "execution_count": null,
      "outputs": []
    },
    {
      "cell_type": "markdown",
      "source": [
        "### **4. A better implementation**\n",
        "\n",
        "In the code above, we implemented the synthetic data generator as a class but the linear regression solver as part of the main code. In this exercise, let's also implement the solver as a class.\n",
        "\n",
        "\n"
      ],
      "metadata": {
        "id": "FPOaDtN916FZ"
      }
    },
    {
      "cell_type": "markdown",
      "source": [
        "#### **4.1. The Model**\n",
        "\n",
        "To do so, we will create a class called **LinearRegression**. It will have at least the following methods as members:\n",
        "- The weights $\\textbf{W}$ and bias $b$. When the class is created, these weights will be initialized to random values. Note that, in the current solution, these weights can be initialized to $0$. We will show later when using the general soluution, that initializing to $0$ is not a good idea.\n",
        "- The method **forward**, which takes $\\textbf{X}$ and computes its output $y$."
      ],
      "metadata": {
        "id": "6x0XDvT2UvSl"
      }
    },
    {
      "cell_type": "code",
      "source": [
        "class LinearRegression:\n",
        "  def __init__(self, d=1):\n",
        "\n",
        "    self.dim = d  # dimension of the data\n",
        "\n",
        "    # Set the weights to random values from normal distribution of mean 0 and std 0.01\n",
        "    self.w = torch.randn(self.dim, 1) * 0.01\n",
        "    self.b = torch.randn(1, 1) * 0.01         # the bias\n",
        "\n",
        "  # The forward function, which computes y for a given X\n",
        "  def forward(self, X):\n",
        "\n",
        "    '''\n",
        "    This function  takes as input X and computes the output Y\n",
        "\n",
        "    Provide the implementation here\n",
        "    '''\n",
        "\n",
        "\n",
        "    return y\n",
        "\n"
      ],
      "metadata": {
        "id": "SJYzAsmj5mPa"
      },
      "execution_count": null,
      "outputs": []
    },
    {
      "cell_type": "markdown",
      "source": [
        "#### **4.2. The Trainer**\n",
        "\n",
        "Now we need to define the training class, i.e., the class that takes the generated data, and then it fits to it the LinearRegression model (i.e, estimates the optimal parameters of the linear regression). Let's call it **Trainer**, which has at least the following members:\n",
        "- Method **fit()**, which takes as input the model (LinearRegression in our case) and the data (the synthetic data we generated in our case), and computes the optimal parameters **$\\textbf{W}$** and **$b$** of the model."
      ],
      "metadata": {
        "id": "jqJ0KaY-7gz-"
      }
    },
    {
      "cell_type": "code",
      "source": [
        "class Trainer:\n",
        "  def __init__(self):\n",
        "    return\n",
        "\n",
        "  def fit(self, model, data):\n",
        "\n",
        "    '''\n",
        "    Implement the function here\n",
        "\n",
        "    It takes the model and the data and should compute the weights W and the bias b, which are members of the mode\n",
        "    '''\n",
        "\n",
        "    return\n"
      ],
      "metadata": {
        "id": "5d_Ox3vE8b7N"
      },
      "execution_count": null,
      "outputs": []
    },
    {
      "cell_type": "markdown",
      "source": [
        "#### **4.3. The main code**\n",
        "\n",
        "Below is a script that shows how the classes above are used to solve the linear regression model."
      ],
      "metadata": {
        "id": "YRAiwYYu9deV"
      }
    },
    {
      "cell_type": "code",
      "source": [
        "# 1. The data\n",
        "d = 1   # dim of the data\n",
        "w = torch.tensor([2.0])\n",
        "b = 4.2\n",
        "num_train = 1000000\n",
        "noise = 1.2\n",
        "\n",
        "data_generator = SyntheticRegressionData()\n",
        "data_generator.generate(w, b, noise = noise, num_train = num_train)\n",
        "\n",
        "print(\"The shape of the input data X and desired output y: \")\n",
        "print(data_generator.X.shape)\n",
        "print(data_generator.y.shape)\n",
        "\n",
        "\n",
        "\n",
        "# 2. The model (linear regression)\n",
        "model = LinearRegression(d)\n",
        "\n",
        "# 3. The trainer\n",
        "trainer = Trainer()\n",
        "\n",
        "# 4. Estimate the parameters\n",
        "trainer.fit(model, data_generator)\n",
        "\n",
        "# 5. Get the results\n",
        "w_star = model.w\n",
        "b_star = model.b\n",
        "\n",
        "# Let's see the estimated parameters\n",
        "print(\"Estimated W: \", w_star)\n",
        "print(\"Estimate b: \",  b_star)\n",
        "\n",
        "# real values\n",
        "print(\"Real W: \", w)\n",
        "print(\"Real b: \", b)"
      ],
      "metadata": {
        "id": "lkrOQL729lQd"
      },
      "execution_count": null,
      "outputs": []
    },
    {
      "cell_type": "markdown",
      "source": [
        "Test the code above on multidimensional data (e.g., 2D or 3D)."
      ],
      "metadata": {
        "id": "2vmq48DqZWNl"
      }
    },
    {
      "cell_type": "markdown",
      "source": [
        "### **5. Another problem**\n",
        "\n",
        "Suppose now that the problem we would like to solve is:\n",
        "$$\n",
        "y = \\sum_{i=1}^{d}w_ix_i^2 + b,\n",
        "$$\n",
        "where $x_i \\in \\mathbb{R}$, i.e., $x_i$'s are one-dimensinal scalars. How would you use the model you implemented above to solve this same problem with minimum extension?"
      ],
      "metadata": {
        "id": "Pj7e5wRlZiAi"
      }
    }
  ],
  "metadata": {
    "colab": {
      "provenance": []
    },
    "kernelspec": {
      "display_name": "Python 3 (ipykernel)",
      "language": "python",
      "name": "python3"
    },
    "language_info": {
      "codemirror_mode": {
        "name": "ipython",
        "version": 3
      },
      "file_extension": ".py",
      "mimetype": "text/x-python",
      "name": "python",
      "nbconvert_exporter": "python",
      "pygments_lexer": "ipython3",
      "version": "3.7.7"
    }
  },
  "nbformat": 4,
  "nbformat_minor": 0
}